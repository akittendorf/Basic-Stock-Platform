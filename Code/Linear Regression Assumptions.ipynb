{
 "cells": [
  {
   "cell_type": "markdown",
   "metadata": {},
   "source": [
    "## Linear Regression Assumptions"
   ]
  },
  {
   "cell_type": "markdown",
   "metadata": {},
   "source": [
    "##### Import Modules"
   ]
  },
  {
   "cell_type": "code",
   "execution_count": 8,
   "metadata": {},
   "outputs": [],
   "source": [
    "# module imports\n",
    "import pandas as pd \n",
    "import matplotlib.pyplot as plt\n",
    "from statsmodels.graphics.tsaplots import plot_acf, plot_pacf\n",
    "from statsmodels.tsa.stattools import acf, adfuller\n",
    "from statsmodels.tsa.arima.model import ARIMA\n",
    "from sklearn.metrics import mean_squared_error\n",
    "from sklearn.model_selection import train_test_split as tts\n",
    "from joblib import load, dump"
   ]
  },
  {
   "cell_type": "markdown",
   "metadata": {},
   "source": [
    "##### Read in csv to Pandas DataFrame"
   ]
  },
  {
   "cell_type": "code",
   "execution_count": 9,
   "metadata": {},
   "outputs": [],
   "source": [
    "# read in csv to pd df\n",
    "dataset = pd.read_csv('monthlydata.csv')\n",
    "\n",
    "# set date as index\n",
    "df = dataset.set_index(dataset['date'])\n",
    "\n",
    "# remove extra columns\n",
    "df.drop(columns=['VGT', 'VIS', 'VHT', 'VFH', 'VCR', 'date', 'Consumer Price Index for all Urban Consumers', 'Real Gross Domestic Product'], inplace=True)\n",
    "\n",
    "# split df into X and y\n",
    "X = df.drop(columns='VTI').copy()\n",
    "y = df['VTI'].copy()"
   ]
  },
  {
   "cell_type": "markdown",
   "metadata": {},
   "source": [
    "## Check Linear Regression Assumptions\n",
    "### Check Multicollinearity with VIF"
   ]
  },
  {
   "cell_type": "markdown",
   "metadata": {},
   "source": [
    "##### Following along with https://etav.github.io/python/vif_factor_python.html, https://www.statology.org/how-to-calculate-vif-in-python/"
   ]
  },
  {
   "cell_type": "code",
   "execution_count": 10,
   "metadata": {},
   "outputs": [],
   "source": [
    "# module imports\n",
    "from patsy import dmatrices\n",
    "from patsy.builtins import Q\n",
    "from statsmodels.stats.outliers_influence import variance_inflation_factor"
   ]
  },
  {
   "cell_type": "code",
   "execution_count": 11,
   "metadata": {},
   "outputs": [
    {
     "data": {
      "text/html": [
       "<div>\n",
       "<style scoped>\n",
       "    .dataframe tbody tr th:only-of-type {\n",
       "        vertical-align: middle;\n",
       "    }\n",
       "\n",
       "    .dataframe tbody tr th {\n",
       "        vertical-align: top;\n",
       "    }\n",
       "\n",
       "    .dataframe thead th {\n",
       "        text-align: right;\n",
       "    }\n",
       "</style>\n",
       "<table border=\"1\" class=\"dataframe\">\n",
       "  <thead>\n",
       "    <tr style=\"text-align: right;\">\n",
       "      <th></th>\n",
       "      <th>10-Year Treasury Constant Maturity Rate</th>\n",
       "      <th>Inflation Expectations</th>\n",
       "      <th>Consumer Sentiment &amp; Consumer Confidence</th>\n",
       "      <th>Advance Retail Sales: Retail Trade</th>\n",
       "      <th>Unemployment Rate</th>\n",
       "      <th>VTI</th>\n",
       "    </tr>\n",
       "    <tr>\n",
       "      <th>date</th>\n",
       "      <th></th>\n",
       "      <th></th>\n",
       "      <th></th>\n",
       "      <th></th>\n",
       "      <th></th>\n",
       "      <th></th>\n",
       "    </tr>\n",
       "  </thead>\n",
       "  <tbody>\n",
       "    <tr>\n",
       "      <th>2006-01-01</th>\n",
       "      <td>4.42</td>\n",
       "      <td>3.0</td>\n",
       "      <td>91.2</td>\n",
       "      <td>286152.0</td>\n",
       "      <td>4.7</td>\n",
       "      <td>127.30</td>\n",
       "    </tr>\n",
       "    <tr>\n",
       "      <th>2006-02-01</th>\n",
       "      <td>4.57</td>\n",
       "      <td>3.0</td>\n",
       "      <td>86.7</td>\n",
       "      <td>282417.0</td>\n",
       "      <td>4.8</td>\n",
       "      <td>127.58</td>\n",
       "    </tr>\n",
       "    <tr>\n",
       "      <th>2006-03-01</th>\n",
       "      <td>4.72</td>\n",
       "      <td>3.0</td>\n",
       "      <td>88.9</td>\n",
       "      <td>326153.0</td>\n",
       "      <td>4.7</td>\n",
       "      <td>129.67</td>\n",
       "    </tr>\n",
       "    <tr>\n",
       "      <th>2006-04-01</th>\n",
       "      <td>4.99</td>\n",
       "      <td>3.3</td>\n",
       "      <td>87.4</td>\n",
       "      <td>316526.0</td>\n",
       "      <td>4.7</td>\n",
       "      <td>130.91</td>\n",
       "    </tr>\n",
       "    <tr>\n",
       "      <th>2006-05-01</th>\n",
       "      <td>5.11</td>\n",
       "      <td>4.0</td>\n",
       "      <td>79.1</td>\n",
       "      <td>337393.0</td>\n",
       "      <td>4.6</td>\n",
       "      <td>126.69</td>\n",
       "    </tr>\n",
       "  </tbody>\n",
       "</table>\n",
       "</div>"
      ],
      "text/plain": [
       "            10-Year Treasury Constant Maturity Rate  Inflation Expectations  \\\n",
       "date                                                                          \n",
       "2006-01-01                                     4.42                     3.0   \n",
       "2006-02-01                                     4.57                     3.0   \n",
       "2006-03-01                                     4.72                     3.0   \n",
       "2006-04-01                                     4.99                     3.3   \n",
       "2006-05-01                                     5.11                     4.0   \n",
       "\n",
       "            Consumer Sentiment & Consumer Confidence  \\\n",
       "date                                                   \n",
       "2006-01-01                                      91.2   \n",
       "2006-02-01                                      86.7   \n",
       "2006-03-01                                      88.9   \n",
       "2006-04-01                                      87.4   \n",
       "2006-05-01                                      79.1   \n",
       "\n",
       "            Advance Retail Sales: Retail Trade  Unemployment Rate     VTI  \n",
       "date                                                                       \n",
       "2006-01-01                            286152.0                4.7  127.30  \n",
       "2006-02-01                            282417.0                4.8  127.58  \n",
       "2006-03-01                            326153.0                4.7  129.67  \n",
       "2006-04-01                            316526.0                4.7  130.91  \n",
       "2006-05-01                            337393.0                4.6  126.69  "
      ]
     },
     "execution_count": 11,
     "metadata": {},
     "output_type": "execute_result"
    }
   ],
   "source": [
    "df.head()"
   ]
  },
  {
   "cell_type": "code",
   "execution_count": 12,
   "metadata": {},
   "outputs": [
    {
     "data": {
      "text/html": [
       "<div>\n",
       "<style scoped>\n",
       "    .dataframe tbody tr th:only-of-type {\n",
       "        vertical-align: middle;\n",
       "    }\n",
       "\n",
       "    .dataframe tbody tr th {\n",
       "        vertical-align: top;\n",
       "    }\n",
       "\n",
       "    .dataframe thead th {\n",
       "        text-align: right;\n",
       "    }\n",
       "</style>\n",
       "<table border=\"1\" class=\"dataframe\">\n",
       "  <thead>\n",
       "    <tr style=\"text-align: right;\">\n",
       "      <th></th>\n",
       "      <th>VIF</th>\n",
       "      <th>variable</th>\n",
       "    </tr>\n",
       "  </thead>\n",
       "  <tbody>\n",
       "    <tr>\n",
       "      <th>0</th>\n",
       "      <td>477.861592</td>\n",
       "      <td>Intercept</td>\n",
       "    </tr>\n",
       "    <tr>\n",
       "      <th>1</th>\n",
       "      <td>2.547205</td>\n",
       "      <td>Q('10-Year Treasury Constant Maturity Rate')</td>\n",
       "    </tr>\n",
       "    <tr>\n",
       "      <th>2</th>\n",
       "      <td>1.937867</td>\n",
       "      <td>Q('Inflation Expectations')</td>\n",
       "    </tr>\n",
       "    <tr>\n",
       "      <th>3</th>\n",
       "      <td>3.348977</td>\n",
       "      <td>Q('Consumer Sentiment &amp; Consumer Confidence')</td>\n",
       "    </tr>\n",
       "    <tr>\n",
       "      <th>4</th>\n",
       "      <td>2.985247</td>\n",
       "      <td>Q('Advance Retail Sales: Retail Trade')</td>\n",
       "    </tr>\n",
       "    <tr>\n",
       "      <th>5</th>\n",
       "      <td>2.776799</td>\n",
       "      <td>Q('Unemployment Rate')</td>\n",
       "    </tr>\n",
       "  </tbody>\n",
       "</table>\n",
       "</div>"
      ],
      "text/plain": [
       "          VIF                                       variable\n",
       "0  477.861592                                      Intercept\n",
       "1    2.547205   Q('10-Year Treasury Constant Maturity Rate')\n",
       "2    1.937867                    Q('Inflation Expectations')\n",
       "3    3.348977  Q('Consumer Sentiment & Consumer Confidence')\n",
       "4    2.985247        Q('Advance Retail Sales: Retail Trade')\n",
       "5    2.776799                         Q('Unemployment Rate')"
      ]
     },
     "execution_count": 12,
     "metadata": {},
     "output_type": "execute_result"
    }
   ],
   "source": [
    "# find design matrix for linear regression model using 'VTI' as response variable \n",
    "y_vif, X_vif = dmatrices(\"VTI ~ + Q('10-Year Treasury Constant Maturity Rate') + \\\n",
    "    Q('Inflation Expectations') + Q('Consumer Sentiment & Consumer Confidence') + \\\n",
    "    Q('Advance Retail Sales: Retail Trade') + Q('Unemployment Rate')\", data=df, return_type='dataframe')\n",
    "\n",
    "# calculate VIF for each explanatory variable\n",
    "vif = pd.DataFrame()\n",
    "vif['VIF'] = [variance_inflation_factor(X_vif.values, i) for i in range(X_vif.shape[1])]\n",
    "vif['variable'] = X_vif.columns\n",
    "\n",
    "# view VIF for each explanatory variable \n",
    "vif\n",
    "\n",
    "# -> removed Consumer Price Index for all Urban Consumers due to multicollinearity"
   ]
  },
  {
   "cell_type": "markdown",
   "metadata": {},
   "source": [
    "### Check Distribution with Q-Q Plot\n",
    "##### https://www.analyticsvidhya.com/blog/2021/09/q-q-plot-ensure-your-ml-model-is-based-on-the-right-distributions/"
   ]
  },
  {
   "cell_type": "code",
   "execution_count": 13,
   "metadata": {},
   "outputs": [],
   "source": [
    "# imports\n",
    "import seaborn as sns\n",
    "import statsmodels.api as sm\n",
    "import scipy.stats as stats"
   ]
  },
  {
   "cell_type": "code",
   "execution_count": 14,
   "metadata": {},
   "outputs": [
    {
     "name": "stderr",
     "output_type": "stream",
     "text": [
      "C:\\ProgramData\\Anaconda3\\lib\\site-packages\\statsmodels\\graphics\\gofplots.py:993: UserWarning: marker is redundantly defined by the 'marker' keyword argument and the fmt string \"bo\" (-> marker='o'). The keyword argument will take precedence.\n",
      "  ax.plot(x, y, fmt, **plot_style)\n"
     ]
    },
    {
     "data": {
      "image/png": "[encoded data removed]",
      "text/plain": [
       "<Figure size 432x288 with 1 Axes>"
      ]
     },
     "metadata": {
      "needs_background": "light"
     },
     "output_type": "display_data"
    }
   ],
   "source": [
    "qq = sm.qqplot(y,line='45',fit=True,dist=stats.norm)"
   ]
  }
 ],
 "metadata": {
  "interpreter": {
   "hash": "b3ba2566441a7c06988d0923437866b63cedc61552a5af99d1f4fb67d367b25f"
  },
  "kernelspec": {
   "display_name": "Python 3.9.7 ('base')",
   "language": "python",
   "name": "python3"
  },
  "language_info": {
   "codemirror_mode": {
    "name": "ipython",
    "version": 3
   },
   "file_extension": ".py",
   "mimetype": "text/x-python",
   "name": "python",
   "nbconvert_exporter": "python",
   "pygments_lexer": "ipython3",
   "version": "3.9.7"
  },
  "orig_nbformat": 4
 },
 "nbformat": 4,
 "nbformat_minor": 2
}
