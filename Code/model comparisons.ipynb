{
 "cells": [
  {
   "cell_type": "markdown",
   "metadata": {},
   "source": [
    "## Compare Model Predictions"
   ]
  },
  {
   "cell_type": "markdown",
   "metadata": {},
   "source": [
    "##### Import Modules"
   ]
  },
  {
   "cell_type": "code",
   "execution_count": 17,
   "metadata": {},
   "outputs": [],
   "source": [
    "# module imports\n",
    "import pandas as pd \n",
    "import matplotlib.pyplot as plt\n",
    "from sklearn.metrics import mean_squared_error\n",
    "from sklearn.model_selection import train_test_split as tts\n",
    "from joblib import load"
   ]
  },
  {
   "cell_type": "markdown",
   "metadata": {},
   "source": [
    "##### Read in csv to Pandas DataFrame"
   ]
  },
  {
   "cell_type": "code",
   "execution_count": 18,
   "metadata": {},
   "outputs": [],
   "source": [
    "# read in csv to pd df\n",
    "dataset = pd.read_csv('monthlydata.csv')\n",
    "\n",
    "# set date as index\n",
    "df = dataset.set_index(dataset['date'])\n",
    "\n",
    "# remove extra columns\n",
    "df.drop(columns=['VGT', 'VIS', 'VHT', 'VFH', 'VCR', 'date', 'Consumer Price Index for all Urban Consumers', 'Real Gross Domestic Product'], inplace=True)"
   ]
  },
  {
   "cell_type": "markdown",
   "metadata": {},
   "source": [
    "##### Split Data into Train/Test Sets"
   ]
  },
  {
   "cell_type": "code",
   "execution_count": 19,
   "metadata": {},
   "outputs": [],
   "source": [
    "# split df into X and y\n",
    "X = df.drop(columns='VTI').copy()\n",
    "y = df['VTI'].copy()\n",
    "\n",
    "# create tts\n",
    "X_train, X_test, y_train, y_test = tts(X, y, test_size=0.05, shuffle=False)\n",
    "\n",
    "# confirm datetime for indices\n",
    "for x in [X_train, X_test, y_train, y_test]:\n",
    "    x.index = pd.to_datetime(x.index)"
   ]
  },
  {
   "cell_type": "markdown",
   "metadata": {},
   "source": [
    "#### LSTM"
   ]
  },
  {
   "cell_type": "code",
   "execution_count": 20,
   "metadata": {},
   "outputs": [],
   "source": [
    "# power bi uses 'dataset'\n",
    "# Import all necessary modules and functions\n",
    "import pandas as pd\n",
    "from pandas import DataFrame, Series, concat, read_json\n",
    "import matplotlib.pyplot as plt\n",
    "\n",
    "from sklearn.metrics import mean_squared_error\n",
    "from sklearn.preprocessing import StandardScaler, MinMaxScaler\n",
    "from sklearn.model_selection import train_test_split\n",
    "\n",
    "from tensorflow import keras\n",
    "from tensorflow.keras.models import Sequential\n",
    "from tensorflow.keras.layers import Dense, LSTM, Dropout\n",
    "from tensorflow.keras.preprocessing.sequence import TimeseriesGenerator\n",
    "from tensorflow.keras.callbacks import EarlyStopping\n",
    "from keras.models import load_model\n",
    "\n",
    "import datetime\n",
    "import math\n",
    "import numpy as np\n",
    "from numpy import concatenate\n",
    "\n",
    "VTIDF = dataset\n",
    "\n",
    "col_names = ['date',\n",
    "             'VTI',\n",
    "             '10-Year Treasury Constant Maturity Rate',\n",
    "             'Inflation Expectations',\n",
    "             'Consumer Sentiment & Consumer Confidence',\n",
    "             'Advance Retail Sales: Retail Trade',\n",
    "             'Unemployment Rate']\n",
    "VTIDF = dataset.reindex(columns = col_names)\n",
    "cols = list(VTIDF)[1:]\n",
    "VTIDF = VTIDF.set_index('date')[cols]\n",
    "\n",
    "# tts before scaling\n",
    "size_mult = 0.95\n",
    "train_size = int(len(VTIDF) * size_mult)\n",
    "training = VTIDF[:184].copy() \n",
    "testing = VTIDF[184:].copy()\n",
    "\n",
    "# scaler\n",
    "scaler = MinMaxScaler()\n",
    "scaled_training = scaler.fit_transform(training) # fit scaler to data and transform training set\n",
    "scaled_X = scaler.transform(VTIDF)\n",
    "scaled_y = scaled_X[:,0]\n",
    "\n",
    "# define general parameters \n",
    "window_length = 1\n",
    "batch_size = 1\n",
    "num_features = 6\n",
    "gen = TimeseriesGenerator(scaled_X, scaled_y, length=window_length, sampling_rate=1, batch_size=batch_size)\n",
    "\n",
    "# import model & predictions\n",
    "lstm = load_model(r'C:\\Users\\Annie Kittendorf\\Documents\\LSTM_ManualSplit_model.h5')\n",
    "predictions = lstm.predict(gen)\n",
    "\n",
    "# descale\n",
    "df_test_pred = pd.concat([pd.DataFrame(predictions), pd.DataFrame(scaled_X[1:,1:][window_length:])], axis=1)\n",
    "preds = scaler.inverse_transform(df_test_pred)\n",
    "preds = preds[:,0]\n",
    "VTIDF = VTIDF[1:]\n",
    "VTIDF['predict'] = preds\n",
    "\n",
    "# get test predicts\n",
    "lstm_preds = VTIDF['predict']\n",
    "lstm_results = lstm_preds[lstm_preds.index > '2021-04-01']"
   ]
  },
  {
   "cell_type": "markdown",
   "metadata": {},
   "source": [
    "#### SARIMAX, Linear Regression, LassoCV"
   ]
  },
  {
   "cell_type": "code",
   "execution_count": 21,
   "metadata": {},
   "outputs": [
    {
     "name": "stderr",
     "output_type": "stream",
     "text": [
      "C:\\ProgramData\\Anaconda3\\lib\\site-packages\\sklearn\\base.py:310: UserWarning: Trying to unpickle estimator LinearRegression from version 0.23.2 when using version 0.24.2. This might lead to breaking code or invalid results. Use at your own risk.\n",
      "  warnings.warn(\n",
      "C:\\ProgramData\\Anaconda3\\lib\\site-packages\\sklearn\\base.py:310: UserWarning: Trying to unpickle estimator LassoCV from version 0.23.2 when using version 0.24.2. This might lead to breaking code or invalid results. Use at your own risk.\n",
      "  warnings.warn(\n"
     ]
    }
   ],
   "source": [
    "# imports\n",
    "from joblib import load\n",
    "\n",
    "# load models\n",
    "sarimax = load('SARIMAX joblib.model')\n",
    "arima = load('arima model')\n",
    "lr = load('Linear Regression model.model')\n",
    "lassocv = load('LassoCV model.model')\n",
    "\n",
    "# variable definitions\n",
    "start = len(X_train)\n",
    "end = len(X_train) + len(X_test) - 1\n",
    "\n",
    "# get predictions\n",
    "sarimax_results = sarimax.predict(start, end, exog=X_test)\n",
    "arima_results = arima.predict(start, end, exog=X_test)\n",
    "lr_results = pd.Series(lr.predict(X_test))\n",
    "lassocv_results = pd.Series(lassocv.predict(X_test))\n",
    "\n",
    "# set indices\n",
    "for model in [sarimax_results, lr_results, lassocv_results, lstm_results]:\n",
    "    model.index = X_test.index\n",
    "\n",
    "# get mean errors\n",
    "sarimax_error = mean_squared_error(sarimax_results, y_test)**0.5\n",
    "arima_error = mean_squared_error(arima_results, y_test)**0.5\n",
    "lr_error = mean_squared_error(lr_results, y_test)**0.5\n",
    "lassocv_error = mean_squared_error(lassocv_results, y_test)**0.5\n",
    "lstm_error = mean_squared_error(lstm_results, y_test)**0.5\n",
    "\n",
    "# confirm datetime type for y index\n",
    "y.index = pd.to_datetime(X.index)"
   ]
  },
  {
   "cell_type": "code",
   "execution_count": 22,
   "metadata": {},
   "outputs": [
    {
     "data": {
      "image/png": "[encoded data removed]",
      "text/plain": [
       "<Figure size 432x288 with 1 Axes>"
      ]
     },
     "metadata": {
      "needs_background": "light"
     },
     "output_type": "display_data"
    }
   ],
   "source": [
    "# plot all model predictions\n",
    "# plt.plot(y_train, label='train')\n",
    "# plt.plot(y_test, label='test')\n",
    "plt.plot(y, c='black', label='Actual values')\n",
    "plt.plot(arima_results, c='magenta', label=f'ARIMA Predictions, {round(arima_error, 2)}')\n",
    "plt.plot(sarimax_results, c='maroon', label=f'SARIMAX Predictions, {round(sarimax_error, 2)}')\n",
    "plt.plot(lr_results, c='green', label=f'Linear Regression Predictions, {round(lr_error, 2)}')\n",
    "plt.plot(lassocv_results, c='blue', label=f'LassoCV Predictions, {round(lassocv_error, 2)}')\n",
    "plt.plot(lstm_results, c='yellow', label=f'LSTM Predictions, {round(lstm_error, 2)}')\n",
    "plt.title('ML Models Comparison')\n",
    "plt.legend(bbox_to_anchor=(1.05, 1.0), loc='upper left')\n",
    "plt.show()"
   ]
  }
 ],
 "metadata": {
  "interpreter": {
   "hash": "b3ba2566441a7c06988d0923437866b63cedc61552a5af99d1f4fb67d367b25f"
  },
  "kernelspec": {
   "display_name": "Python 3.9.7 ('base')",
   "language": "python",
   "name": "python3"
  },
  "language_info": {
   "codemirror_mode": {
    "name": "ipython",
    "version": 3
   },
   "file_extension": ".py",
   "mimetype": "text/x-python",
   "name": "python",
   "nbconvert_exporter": "python",
   "pygments_lexer": "ipython3",
   "version": "3.9.7"
  },
  "orig_nbformat": 4
 },
 "nbformat": 4,
 "nbformat_minor": 2
}
