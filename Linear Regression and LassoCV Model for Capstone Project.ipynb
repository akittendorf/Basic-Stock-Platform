{
 "cells": [
  {
   "cell_type": "markdown",
   "id": "6bfcaf5e",
   "metadata": {},
   "source": [
    "# Linear Regression Model and LassoCV model for Capstone Project"
   ]
  },
  {
   "cell_type": "code",
   "execution_count": 1,
   "id": "b8f6ea8b",
   "metadata": {},
   "outputs": [],
   "source": [
    "import pandas as pd\n",
    "import numpy as np\n",
    "import sklearn\n",
    "import datetime\n",
    "from dateutil.relativedelta import relativedelta\n",
    "from sklearn.model_selection import train_test_split\n",
    "from sklearn.linear_model import LassoCV\n",
    "from statsmodels.tsa.ar_model import AutoReg as ar\n",
    "import matplotlib.pyplot as plt\n",
    "\n",
    "%matplotlib inline"
   ]
  },
  {
   "cell_type": "code",
   "execution_count": 2,
   "id": "f5b5695a",
   "metadata": {
    "scrolled": false
   },
   "outputs": [
    {
     "data": {
      "text/html": [
       "<div>\n",
       "<style scoped>\n",
       "    .dataframe tbody tr th:only-of-type {\n",
       "        vertical-align: middle;\n",
       "    }\n",
       "\n",
       "    .dataframe tbody tr th {\n",
       "        vertical-align: top;\n",
       "    }\n",
       "\n",
       "    .dataframe thead th {\n",
       "        text-align: right;\n",
       "    }\n",
       "</style>\n",
       "<table border=\"1\" class=\"dataframe\">\n",
       "  <thead>\n",
       "    <tr style=\"text-align: right;\">\n",
       "      <th></th>\n",
       "      <th>10-Year Treasury Constant Maturity Rate</th>\n",
       "      <th>Consumer Price Index for all Urban Consumers</th>\n",
       "      <th>Inflation Expectations</th>\n",
       "      <th>Consumer Sentiment &amp; Consumer Confidence</th>\n",
       "      <th>Advance Retail Sales: Retail Trade</th>\n",
       "      <th>Unemployment Rate</th>\n",
       "      <th>VTI</th>\n",
       "      <th>VGT</th>\n",
       "      <th>VIS</th>\n",
       "      <th>VHT</th>\n",
       "      <th>VFH</th>\n",
       "      <th>VCR</th>\n",
       "      <th>date</th>\n",
       "    </tr>\n",
       "  </thead>\n",
       "  <tbody>\n",
       "    <tr>\n",
       "      <th>0</th>\n",
       "      <td>4.420000</td>\n",
       "      <td>198.300000</td>\n",
       "      <td>3.000000</td>\n",
       "      <td>91.200000</td>\n",
       "      <td>286152.000000</td>\n",
       "      <td>4.700000</td>\n",
       "      <td>127.300003</td>\n",
       "      <td>50.330002</td>\n",
       "      <td>58.570000</td>\n",
       "      <td>55.029999</td>\n",
       "      <td>56.869999</td>\n",
       "      <td>53.500000</td>\n",
       "      <td>2006-01-01</td>\n",
       "    </tr>\n",
       "    <tr>\n",
       "      <th>1</th>\n",
       "      <td>4.570000</td>\n",
       "      <td>198.700000</td>\n",
       "      <td>3.000000</td>\n",
       "      <td>86.700000</td>\n",
       "      <td>282417.000000</td>\n",
       "      <td>4.800000</td>\n",
       "      <td>127.580002</td>\n",
       "      <td>49.770000</td>\n",
       "      <td>60.299999</td>\n",
       "      <td>55.619999</td>\n",
       "      <td>57.970001</td>\n",
       "      <td>53.740101</td>\n",
       "      <td>2006-02-01</td>\n",
       "    </tr>\n",
       "    <tr>\n",
       "      <th>2</th>\n",
       "      <td>4.720000</td>\n",
       "      <td>199.800000</td>\n",
       "      <td>3.000000</td>\n",
       "      <td>88.900000</td>\n",
       "      <td>326153.000000</td>\n",
       "      <td>4.700000</td>\n",
       "      <td>129.669998</td>\n",
       "      <td>50.939999</td>\n",
       "      <td>63.070000</td>\n",
       "      <td>55.209999</td>\n",
       "      <td>58.369999</td>\n",
       "      <td>54.599998</td>\n",
       "      <td>2006-03-01</td>\n",
       "    </tr>\n",
       "    <tr>\n",
       "      <th>3</th>\n",
       "      <td>4.990000</td>\n",
       "      <td>201.500000</td>\n",
       "      <td>3.300000</td>\n",
       "      <td>87.400000</td>\n",
       "      <td>316526.000000</td>\n",
       "      <td>4.700000</td>\n",
       "      <td>130.910004</td>\n",
       "      <td>50.509998</td>\n",
       "      <td>64.360001</td>\n",
       "      <td>53.400002</td>\n",
       "      <td>60.090000</td>\n",
       "      <td>55.000000</td>\n",
       "      <td>2006-04-01</td>\n",
       "    </tr>\n",
       "    <tr>\n",
       "      <th>4</th>\n",
       "      <td>5.110000</td>\n",
       "      <td>202.500000</td>\n",
       "      <td>4.000000</td>\n",
       "      <td>79.100000</td>\n",
       "      <td>337393.000000</td>\n",
       "      <td>4.600000</td>\n",
       "      <td>126.690002</td>\n",
       "      <td>46.750000</td>\n",
       "      <td>62.790001</td>\n",
       "      <td>52.090000</td>\n",
       "      <td>57.990002</td>\n",
       "      <td>53.540001</td>\n",
       "      <td>2006-05-01</td>\n",
       "    </tr>\n",
       "    <tr>\n",
       "      <th>...</th>\n",
       "      <td>...</td>\n",
       "      <td>...</td>\n",
       "      <td>...</td>\n",
       "      <td>...</td>\n",
       "      <td>...</td>\n",
       "      <td>...</td>\n",
       "      <td>...</td>\n",
       "      <td>...</td>\n",
       "      <td>...</td>\n",
       "      <td>...</td>\n",
       "      <td>...</td>\n",
       "      <td>...</td>\n",
       "      <td>...</td>\n",
       "    </tr>\n",
       "    <tr>\n",
       "      <th>189</th>\n",
       "      <td>1.580000</td>\n",
       "      <td>276.589000</td>\n",
       "      <td>4.800000</td>\n",
       "      <td>71.700000</td>\n",
       "      <td>559399.000000</td>\n",
       "      <td>4.600000</td>\n",
       "      <td>236.910004</td>\n",
       "      <td>434.160004</td>\n",
       "      <td>200.649994</td>\n",
       "      <td>258.450012</td>\n",
       "      <td>99.650002</td>\n",
       "      <td>338.809998</td>\n",
       "      <td>2021-10-01</td>\n",
       "    </tr>\n",
       "    <tr>\n",
       "      <th>190</th>\n",
       "      <td>1.560000</td>\n",
       "      <td>277.948000</td>\n",
       "      <td>4.900000</td>\n",
       "      <td>67.400000</td>\n",
       "      <td>580162.000000</td>\n",
       "      <td>4.200000</td>\n",
       "      <td>233.449997</td>\n",
       "      <td>447.690002</td>\n",
       "      <td>194.369995</td>\n",
       "      <td>248.179993</td>\n",
       "      <td>94.320000</td>\n",
       "      <td>341.589996</td>\n",
       "      <td>2021-11-01</td>\n",
       "    </tr>\n",
       "    <tr>\n",
       "      <th>191</th>\n",
       "      <td>1.470000</td>\n",
       "      <td>278.802000</td>\n",
       "      <td>4.800000</td>\n",
       "      <td>70.600000</td>\n",
       "      <td>641659.000000</td>\n",
       "      <td>3.900000</td>\n",
       "      <td>241.440002</td>\n",
       "      <td>458.170013</td>\n",
       "      <td>202.960007</td>\n",
       "      <td>266.420013</td>\n",
       "      <td>96.570000</td>\n",
       "      <td>340.660004</td>\n",
       "      <td>2021-12-01</td>\n",
       "    </tr>\n",
       "    <tr>\n",
       "      <th>192</th>\n",
       "      <td>1.760000</td>\n",
       "      <td>281.148000</td>\n",
       "      <td>3.065625</td>\n",
       "      <td>82.314063</td>\n",
       "      <td>386512.072917</td>\n",
       "      <td>4.000000</td>\n",
       "      <td>226.809998</td>\n",
       "      <td>422.260010</td>\n",
       "      <td>190.229996</td>\n",
       "      <td>245.339996</td>\n",
       "      <td>96.019997</td>\n",
       "      <td>307.440002</td>\n",
       "      <td>2022-01-01</td>\n",
       "    </tr>\n",
       "    <tr>\n",
       "      <th>193</th>\n",
       "      <td>2.666321</td>\n",
       "      <td>233.979689</td>\n",
       "      <td>3.065625</td>\n",
       "      <td>82.314063</td>\n",
       "      <td>386512.072917</td>\n",
       "      <td>6.236269</td>\n",
       "      <td>222.940002</td>\n",
       "      <td>405.959991</td>\n",
       "      <td>187.610001</td>\n",
       "      <td>243.779999</td>\n",
       "      <td>98.059998</td>\n",
       "      <td>302.049988</td>\n",
       "      <td>2022-02-01</td>\n",
       "    </tr>\n",
       "  </tbody>\n",
       "</table>\n",
       "<p>194 rows × 13 columns</p>\n",
       "</div>"
      ],
      "text/plain": [
       "     10-Year Treasury Constant Maturity Rate  \\\n",
       "0                                   4.420000   \n",
       "1                                   4.570000   \n",
       "2                                   4.720000   \n",
       "3                                   4.990000   \n",
       "4                                   5.110000   \n",
       "..                                       ...   \n",
       "189                                 1.580000   \n",
       "190                                 1.560000   \n",
       "191                                 1.470000   \n",
       "192                                 1.760000   \n",
       "193                                 2.666321   \n",
       "\n",
       "     Consumer Price Index for all Urban Consumers  Inflation Expectations  \\\n",
       "0                                      198.300000                3.000000   \n",
       "1                                      198.700000                3.000000   \n",
       "2                                      199.800000                3.000000   \n",
       "3                                      201.500000                3.300000   \n",
       "4                                      202.500000                4.000000   \n",
       "..                                            ...                     ...   \n",
       "189                                    276.589000                4.800000   \n",
       "190                                    277.948000                4.900000   \n",
       "191                                    278.802000                4.800000   \n",
       "192                                    281.148000                3.065625   \n",
       "193                                    233.979689                3.065625   \n",
       "\n",
       "     Consumer Sentiment & Consumer Confidence  \\\n",
       "0                                   91.200000   \n",
       "1                                   86.700000   \n",
       "2                                   88.900000   \n",
       "3                                   87.400000   \n",
       "4                                   79.100000   \n",
       "..                                        ...   \n",
       "189                                 71.700000   \n",
       "190                                 67.400000   \n",
       "191                                 70.600000   \n",
       "192                                 82.314063   \n",
       "193                                 82.314063   \n",
       "\n",
       "     Advance Retail Sales: Retail Trade  Unemployment Rate         VTI  \\\n",
       "0                         286152.000000           4.700000  127.300003   \n",
       "1                         282417.000000           4.800000  127.580002   \n",
       "2                         326153.000000           4.700000  129.669998   \n",
       "3                         316526.000000           4.700000  130.910004   \n",
       "4                         337393.000000           4.600000  126.690002   \n",
       "..                                  ...                ...         ...   \n",
       "189                       559399.000000           4.600000  236.910004   \n",
       "190                       580162.000000           4.200000  233.449997   \n",
       "191                       641659.000000           3.900000  241.440002   \n",
       "192                       386512.072917           4.000000  226.809998   \n",
       "193                       386512.072917           6.236269  222.940002   \n",
       "\n",
       "            VGT         VIS         VHT        VFH         VCR       date  \n",
       "0     50.330002   58.570000   55.029999  56.869999   53.500000 2006-01-01  \n",
       "1     49.770000   60.299999   55.619999  57.970001   53.740101 2006-02-01  \n",
       "2     50.939999   63.070000   55.209999  58.369999   54.599998 2006-03-01  \n",
       "3     50.509998   64.360001   53.400002  60.090000   55.000000 2006-04-01  \n",
       "4     46.750000   62.790001   52.090000  57.990002   53.540001 2006-05-01  \n",
       "..          ...         ...         ...        ...         ...        ...  \n",
       "189  434.160004  200.649994  258.450012  99.650002  338.809998 2021-10-01  \n",
       "190  447.690002  194.369995  248.179993  94.320000  341.589996 2021-11-01  \n",
       "191  458.170013  202.960007  266.420013  96.570000  340.660004 2021-12-01  \n",
       "192  422.260010  190.229996  245.339996  96.019997  307.440002 2022-01-01  \n",
       "193  405.959991  187.610001  243.779999  98.059998  302.049988 2022-02-01  \n",
       "\n",
       "[194 rows x 13 columns]"
      ]
     },
     "execution_count": 2,
     "metadata": {},
     "output_type": "execute_result"
    }
   ],
   "source": [
    "monthly_df = pd.read_json(\"monthly_data.json\")\n",
    "monthly_df.drop(['Real Gross Domestic Product'],axis=1, inplace=True)\n",
    "monthly_df"
   ]
  },
  {
   "cell_type": "markdown",
   "id": "bf00ec26",
   "metadata": {},
   "source": [
    "## Checking for collinearity"
   ]
  },
  {
   "cell_type": "code",
   "execution_count": 3,
   "id": "64dd01ce",
   "metadata": {},
   "outputs": [],
   "source": [
    "from patsy import dmatrices\n",
    "import statsmodels.api as sm\n",
    "from statsmodels.stats.outliers_influence import variance_inflation_factor\n",
    "\n",
    "ETF_stocks = ['VTI','VGT','VIS','VHT','VFH','VCR']\n",
    "for j in ETF_stocks:\n",
    "    # get y and X dataframes based on this regression:\n",
    "    y, x = dmatrices(f'{j} ~' + \"+\".join([f\"Q('{x}')\" \\\n",
    "                                          for x in monthly_df.drop(['date', \\\n",
    "                                        'VTI','VGT','VIS','VHT','VFH','VCR'],axis=1).columns]), \\\n",
    "                     monthly_df, return_type='dataframe')\n",
    "    globals()[f\"{j}_vif\"] = pd.DataFrame()\n",
    "    globals()[f\"{j}_vif\"][\"VIF Factor\"] = [variance_inflation_factor(x.values, i) for i in range(x.shape[1])]\n",
    "    globals()[f\"{j}_vif\"][\"features\"] = x.columns"
   ]
  },
  {
   "cell_type": "code",
   "execution_count": 4,
   "id": "bded9751",
   "metadata": {},
   "outputs": [
    {
     "data": {
      "text/html": [
       "<div>\n",
       "<style scoped>\n",
       "    .dataframe tbody tr th:only-of-type {\n",
       "        vertical-align: middle;\n",
       "    }\n",
       "\n",
       "    .dataframe tbody tr th {\n",
       "        vertical-align: top;\n",
       "    }\n",
       "\n",
       "    .dataframe thead th {\n",
       "        text-align: right;\n",
       "    }\n",
       "</style>\n",
       "<table border=\"1\" class=\"dataframe\">\n",
       "  <thead>\n",
       "    <tr style=\"text-align: right;\">\n",
       "      <th></th>\n",
       "      <th>VIF Factor</th>\n",
       "      <th>features</th>\n",
       "    </tr>\n",
       "  </thead>\n",
       "  <tbody>\n",
       "    <tr>\n",
       "      <th>0</th>\n",
       "      <td>1262.8</td>\n",
       "      <td>Intercept</td>\n",
       "    </tr>\n",
       "    <tr>\n",
       "      <th>1</th>\n",
       "      <td>4.8</td>\n",
       "      <td>Q('10-Year Treasury Constant Maturity Rate')</td>\n",
       "    </tr>\n",
       "    <tr>\n",
       "      <th>2</th>\n",
       "      <td>8.4</td>\n",
       "      <td>Q('Consumer Price Index for all Urban Consumers')</td>\n",
       "    </tr>\n",
       "    <tr>\n",
       "      <th>3</th>\n",
       "      <td>2.0</td>\n",
       "      <td>Q('Inflation Expectations')</td>\n",
       "    </tr>\n",
       "    <tr>\n",
       "      <th>4</th>\n",
       "      <td>3.5</td>\n",
       "      <td>Q('Consumer Sentiment &amp; Consumer Confidence')</td>\n",
       "    </tr>\n",
       "    <tr>\n",
       "      <th>5</th>\n",
       "      <td>4.8</td>\n",
       "      <td>Q('Advance Retail Sales: Retail Trade')</td>\n",
       "    </tr>\n",
       "    <tr>\n",
       "      <th>6</th>\n",
       "      <td>2.8</td>\n",
       "      <td>Q('Unemployment Rate')</td>\n",
       "    </tr>\n",
       "  </tbody>\n",
       "</table>\n",
       "</div>"
      ],
      "text/plain": [
       "   VIF Factor                                           features\n",
       "0      1262.8                                          Intercept\n",
       "1         4.8       Q('10-Year Treasury Constant Maturity Rate')\n",
       "2         8.4  Q('Consumer Price Index for all Urban Consumers')\n",
       "3         2.0                        Q('Inflation Expectations')\n",
       "4         3.5      Q('Consumer Sentiment & Consumer Confidence')\n",
       "5         4.8            Q('Advance Retail Sales: Retail Trade')\n",
       "6         2.8                             Q('Unemployment Rate')"
      ]
     },
     "execution_count": 4,
     "metadata": {},
     "output_type": "execute_result"
    }
   ],
   "source": [
    "VTI_vif.round(1)"
   ]
  },
  {
   "cell_type": "code",
   "execution_count": 5,
   "id": "46118cfc",
   "metadata": {},
   "outputs": [],
   "source": [
    "from patsy import dmatrices\n",
    "import statsmodels.api as sm\n",
    "from statsmodels.stats.outliers_influence import variance_inflation_factor\n",
    "\n",
    "ETF_stocks = ['VTI','VGT','VIS','VHT','VFH','VCR']\n",
    "for j in ETF_stocks:\n",
    "    # get y and X dataframes based on this regression:\n",
    "    y, x = dmatrices(f'{j} ~' + \"+\".join([f\"Q('{x}')\" \\\n",
    "                                        for x in monthly_df.drop(['date', 'Consumer Price Index for all Urban Consumers',\\\n",
    "                                        'VTI','VGT','VIS','VHT','VFH','VCR'],axis=1).columns]), \\\n",
    "                     monthly_df, return_type='dataframe')\n",
    "    globals()[f\"{j}_vif\"] = pd.DataFrame()\n",
    "    globals()[f\"{j}_vif\"][\"VIF Factor\"] = [variance_inflation_factor(x.values, i) for i in range(x.shape[1])]\n",
    "    globals()[f\"{j}_vif\"][\"features\"] = x.columns"
   ]
  },
  {
   "cell_type": "code",
   "execution_count": 6,
   "id": "9813e758",
   "metadata": {
    "scrolled": true
   },
   "outputs": [
    {
     "data": {
      "text/html": [
       "<div>\n",
       "<style scoped>\n",
       "    .dataframe tbody tr th:only-of-type {\n",
       "        vertical-align: middle;\n",
       "    }\n",
       "\n",
       "    .dataframe tbody tr th {\n",
       "        vertical-align: top;\n",
       "    }\n",
       "\n",
       "    .dataframe thead th {\n",
       "        text-align: right;\n",
       "    }\n",
       "</style>\n",
       "<table border=\"1\" class=\"dataframe\">\n",
       "  <thead>\n",
       "    <tr style=\"text-align: right;\">\n",
       "      <th></th>\n",
       "      <th>VIF Factor</th>\n",
       "      <th>features</th>\n",
       "    </tr>\n",
       "  </thead>\n",
       "  <tbody>\n",
       "    <tr>\n",
       "      <th>0</th>\n",
       "      <td>477.9</td>\n",
       "      <td>Intercept</td>\n",
       "    </tr>\n",
       "    <tr>\n",
       "      <th>1</th>\n",
       "      <td>2.5</td>\n",
       "      <td>Q('10-Year Treasury Constant Maturity Rate')</td>\n",
       "    </tr>\n",
       "    <tr>\n",
       "      <th>2</th>\n",
       "      <td>1.9</td>\n",
       "      <td>Q('Inflation Expectations')</td>\n",
       "    </tr>\n",
       "    <tr>\n",
       "      <th>3</th>\n",
       "      <td>3.3</td>\n",
       "      <td>Q('Consumer Sentiment &amp; Consumer Confidence')</td>\n",
       "    </tr>\n",
       "    <tr>\n",
       "      <th>4</th>\n",
       "      <td>3.0</td>\n",
       "      <td>Q('Advance Retail Sales: Retail Trade')</td>\n",
       "    </tr>\n",
       "    <tr>\n",
       "      <th>5</th>\n",
       "      <td>2.8</td>\n",
       "      <td>Q('Unemployment Rate')</td>\n",
       "    </tr>\n",
       "  </tbody>\n",
       "</table>\n",
       "</div>"
      ],
      "text/plain": [
       "   VIF Factor                                       features\n",
       "0       477.9                                      Intercept\n",
       "1         2.5   Q('10-Year Treasury Constant Maturity Rate')\n",
       "2         1.9                    Q('Inflation Expectations')\n",
       "3         3.3  Q('Consumer Sentiment & Consumer Confidence')\n",
       "4         3.0        Q('Advance Retail Sales: Retail Trade')\n",
       "5         2.8                         Q('Unemployment Rate')"
      ]
     },
     "execution_count": 6,
     "metadata": {},
     "output_type": "execute_result"
    }
   ],
   "source": [
    "VTI_vif.round(1)"
   ]
  },
  {
   "cell_type": "markdown",
   "id": "ef6952d4",
   "metadata": {},
   "source": [
    "## Linear Regression and LassoCV models"
   ]
  },
  {
   "cell_type": "code",
   "execution_count": 7,
   "id": "5382bb27",
   "metadata": {},
   "outputs": [],
   "source": [
    "X = monthly_df.drop(columns=['date','Consumer Price Index for all Urban Consumers','VTI','VGT','VIS','VHT','VFH','VCR'])\n",
    "Y = monthly_df['VTI']"
   ]
  },
  {
   "cell_type": "code",
   "execution_count": 8,
   "id": "5a5ba1a9",
   "metadata": {},
   "outputs": [],
   "source": [
    "X_train, X_test, Y_train, Y_test = train_test_split(X,Y,test_size=.05,shuffle=False)"
   ]
  },
  {
   "cell_type": "code",
   "execution_count": 9,
   "id": "8b82001e",
   "metadata": {},
   "outputs": [
    {
     "name": "stdout",
     "output_type": "stream",
     "text": [
      "Coefficients for LassoCV model: [ 2.41088527e+00  0.00000000e+00  0.00000000e+00  4.38344954e-04\n",
      " -5.88677282e+00]\n",
      "\n",
      "Median absolute error for LassoCV: 35.83428492419793\n"
     ]
    }
   ],
   "source": [
    "# Alpha of 5 chosen based on \n",
    "hyper_test = LassoCV(alphas=[5], random_state=0).fit(X,Y)\n",
    "predictions = hyper_test.predict(X_test)\n",
    "print(f\"Coefficients for LassoCV model: {hyper_test.coef_}\")\n",
    "print(f\"\\nMedian absolute error for LassoCV: {sklearn.metrics.median_absolute_error(Y_test, predictions)}\")"
   ]
  },
  {
   "cell_type": "code",
   "execution_count": 10,
   "id": "7a93cdf4",
   "metadata": {},
   "outputs": [
    {
     "data": {
      "text/plain": [
       "Text(0, 0.5, 'Predicted VTI closing stock price')"
      ]
     },
     "execution_count": 10,
     "metadata": {},
     "output_type": "execute_result"
    },
    {
     "data": {
      "image/png": "[encoded data removed]",
      "text/plain": [
       "<Figure size 432x288 with 1 Axes>"
      ]
     },
     "metadata": {
      "needs_background": "light"
     },
     "output_type": "display_data"
    }
   ],
   "source": [
    "plt.scatter(Y_test.values, predictions)\n",
    "plt.title(\"Actual VTI closing stock price vs. Predicted VTI closing stock price\")\n",
    "plt.xlabel(\"Actual VTI closing stock price\")\n",
    "plt.ylabel(\"Predicted VTI closing stock price\")"
   ]
  },
  {
   "cell_type": "code",
   "execution_count": 11,
   "id": "0583f5b9",
   "metadata": {},
   "outputs": [
    {
     "data": {
      "text/plain": [
       "Text(0, 0.5, 'Residuals')"
      ]
     },
     "execution_count": 11,
     "metadata": {},
     "output_type": "execute_result"
    },
    {
     "data": {
      "image/png": "[encoded data removed]",
      "text/plain": [
       "<Figure size 432x288 with 1 Axes>"
      ]
     },
     "metadata": {
      "needs_background": "light"
     },
     "output_type": "display_data"
    }
   ],
   "source": [
    "plt.scatter(predictions, predictions - Y_test.values)\n",
    "plt.title(\"Predicted VTI closing stock price vs. Residuals - Lasso CV model\")\n",
    "plt.xlabel(\"Predicted VTI closing stock price\")\n",
    "plt.ylabel(\"Residuals\")"
   ]
  },
  {
   "cell_type": "code",
   "execution_count": 12,
   "id": "94d1f9a1",
   "metadata": {},
   "outputs": [
    {
     "data": {
      "text/plain": [
       "48.69398797628247"
      ]
     },
     "execution_count": 12,
     "metadata": {},
     "output_type": "execute_result"
    }
   ],
   "source": [
    "linear_test = sklearn.linear_model.LinearRegression().fit(X_train,Y_train)\n",
    "linear_predictions = linear_test.predict(X_test)\n",
    "sklearn.metrics.median_absolute_error(Y_test,linear_predictions)"
   ]
  },
  {
   "cell_type": "code",
   "execution_count": 13,
   "id": "3cd7ca50",
   "metadata": {},
   "outputs": [
    {
     "data": {
      "text/plain": [
       "Text(0, 0.5, 'Predicted VTI closing stock price')"
      ]
     },
     "execution_count": 13,
     "metadata": {},
     "output_type": "execute_result"
    },
    {
     "data": {
      "image/png": "[encoded data removed]",
      "text/plain": [
       "<Figure size 432x288 with 1 Axes>"
      ]
     },
     "metadata": {
      "needs_background": "light"
     },
     "output_type": "display_data"
    }
   ],
   "source": [
    "plt.scatter(Y_test.values, linear_predictions)\n",
    "plt.title(\"Actual VTI closing stock price vs. Predicted VTI closing stock price\")\n",
    "plt.xlabel(\"Actual VTI closing stock price\")\n",
    "plt.ylabel(\"Predicted VTI closing stock price\")"
   ]
  },
  {
   "cell_type": "code",
   "execution_count": 14,
   "id": "f87ec5e9",
   "metadata": {},
   "outputs": [
    {
     "data": {
      "text/plain": [
       "Text(0, 0.5, 'Residuals')"
      ]
     },
     "execution_count": 14,
     "metadata": {},
     "output_type": "execute_result"
    },
    {
     "data": {
      "image/png": "[encoded data removed]",
      "text/plain": [
       "<Figure size 432x288 with 1 Axes>"
      ]
     },
     "metadata": {
      "needs_background": "light"
     },
     "output_type": "display_data"
    }
   ],
   "source": [
    "plt.scatter(linear_predictions, linear_predictions - Y_test.values)\n",
    "plt.title(\"Predicted VTI closing stock price vs. Residuals - Linear Regression model\")\n",
    "plt.xlabel(\"Predicted VTI closing stock price\")\n",
    "plt.ylabel(\"Residuals\")"
   ]
  },
  {
   "cell_type": "code",
   "execution_count": 15,
   "id": "f7404be4",
   "metadata": {},
   "outputs": [
    {
     "name": "stderr",
     "output_type": "stream",
     "text": [
      "C:\\Users\\dfbod\\Anaconda3\\lib\\site-packages\\statsmodels\\tsa\\ar_model.py:248: FutureWarning: The parameter names will change after 0.12 is released. Set old_names to False to use the new names now. Set old_names to True to use the old names. \n",
      "  warnings.warn(\n",
      "C:\\Users\\dfbod\\Anaconda3\\lib\\site-packages\\pandas\\core\\indexing.py:670: SettingWithCopyWarning: \n",
      "A value is trying to be set on a copy of a slice from a DataFrame\n",
      "\n",
      "See the caveats in the documentation: https://pandas.pydata.org/pandas-docs/stable/user_guide/indexing.html#returning-a-view-versus-a-copy\n",
      "  iloc._setitem_with_indexer(indexer, value)\n"
     ]
    }
   ],
   "source": [
    "# Auto-regression model used to make future predictions on VTI stock price\n",
    "res = ar(endog = monthly_df['VTI'], lags = [1,5]).fit()\n",
    "new_index=[monthly_df.index[-1]+x for x in range(1, 8)]\n",
    "actual_df_pred=pd.DataFrame(index=new_index,columns=monthly_df.columns)\n",
    "ar_df = pd.concat([monthly_df, actual_df_pred])\n",
    "ar_df['predictions']=res.predict(start=monthly_df.shape[0],end=ar_df.shape[0])\n",
    "\n",
    "# Sets predictions \n",
    "for x in list(ar_df.index)[-len(new_index):]:\n",
    "    ar_df['date'].iloc[x] = ar_df['date'].iloc[x-1] + relativedelta(months=1)"
   ]
  },
  {
   "cell_type": "code",
   "execution_count": 16,
   "id": "65dae152",
   "metadata": {
    "scrolled": true
   },
   "outputs": [
    {
     "data": {
      "text/plain": [
       "<matplotlib.legend.Legend at 0x1652f1bd0a0>"
      ]
     },
     "execution_count": 16,
     "metadata": {},
     "output_type": "execute_result"
    },
    {
     "data": {
      "image/png": "[encoded data removed]",
      "text/plain": [
       "<Figure size 432x288 with 1 Axes>"
      ]
     },
     "metadata": {
      "needs_background": "light"
     },
     "output_type": "display_data"
    }
   ],
   "source": [
    "plt.plot(monthly_df['date'][-len(Y_test):].values,Y_test,linestyle='-')\n",
    "plt.plot(monthly_df['date'][-len(Y_test):].values,predictions,linestyle='-.')\n",
    "plt.plot(monthly_df['date'][-len(Y_test):].values,linear_predictions,linestyle='--')\n",
    "plt.plot(ar_df['date'][-len(new_index):].values,ar_df['predictions'][-len(new_index):],linestyle='-')\n",
    "plt.xlabel('Dates',labelpad=5)\n",
    "plt.ylabel('VTI Closing Prices ($)')\n",
    "plt.title('Actual Price to ML model predictions and their Forecasted Behavior',y=1.05)\n",
    "plt.xticks(rotation=20)\n",
    "plt.legend(['Actual prices','LassoCV model', 'Linear Regression',\n",
    "            'Predictions for Actual prices','Predictions for LassoCV model', 'Predictions for Linear Regression model'],loc=(1.1,0.5))"
   ]
  },
  {
   "cell_type": "markdown",
   "id": "4e962e4b",
   "metadata": {},
   "source": [
    "## Uploading models via Joblib"
   ]
  },
  {
   "cell_type": "code",
   "execution_count": 17,
   "id": "e287d062",
   "metadata": {},
   "outputs": [
    {
     "data": {
      "text/plain": [
       "['Linear Regression model.model']"
      ]
     },
     "execution_count": 17,
     "metadata": {},
     "output_type": "execute_result"
    }
   ],
   "source": [
    "from joblib import dump\n",
    "\n",
    "dump(hyper_test, \"LassoCV model.model\")\n",
    "dump(linear_test, \"Linear Regression model.model\")"
   ]
  },
  {
   "cell_type": "code",
   "execution_count": null,
   "id": "e2af6a2c",
   "metadata": {},
   "outputs": [],
   "source": []
  }
 ],
 "metadata": {
  "kernelspec": {
   "display_name": "Python 3 (ipykernel)",
   "language": "python",
   "name": "python3"
  },
  "language_info": {
   "codemirror_mode": {
    "name": "ipython",
    "version": 3
   },
   "file_extension": ".py",
   "mimetype": "text/x-python",
   "name": "python",
   "nbconvert_exporter": "python",
   "pygments_lexer": "ipython3",
   "version": "3.8.5"
  }
 },
 "nbformat": 4,
 "nbformat_minor": 5
}
